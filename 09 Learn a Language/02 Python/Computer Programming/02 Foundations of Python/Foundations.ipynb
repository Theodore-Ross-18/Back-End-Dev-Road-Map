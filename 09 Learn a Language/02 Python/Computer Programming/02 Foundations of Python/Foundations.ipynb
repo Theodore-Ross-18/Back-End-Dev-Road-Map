{
  "cells": [
    {
      "cell_type": "markdown",
      "metadata": {
        "id": "-zNbrx2v2NjL"
      },
      "source": [
        "# Foundations of Python Programming\n",
        "\n",
        "In this module you will learn the basic building blocks of Python programs. Such as literals, operators, function calls, and variables.\n",
        "\n",
        "1. Literals - like numbers and character strings\n",
        "2. Operators - like + and *\n",
        "3. Function calls - which take values as input/s and compute new values\n",
        "4. Variables - which save values so they can be used later in the program\n",
        "\n",
        "## Learning Objectives\n",
        "1. Identify variables that reference an object of a particular type.\n",
        "2. Convert type into another type\n",
        "3. Simulate evaluation of an expression and assignment statement.\n",
        "4. Use reassignment to increment a variable (accumulator pattern)\n",
        "5. Get input from a user and convert the input to the appropriate type.\n",
        "6. Identify the following types of values: strings, integers, floats, functions.\n",
        "7. Recognize valid vs. invalid variable names.\n",
        "8. Write an assignment statement.\n",
        "\n",
        "\n",
        "### Values and Data Types\n",
        "\n",
        "A value is one of the fundamental things - like a word or a number - that a program manipulates. Examples are 5 the result when you add the 2 + 3, and \"Hello World!\". These objects are classified into different classes, or data types.\n",
        "\n",
        "The different basic data types are:\n",
        "- integer - whole numbers (e.g. 4, -1, 3, 0)\n",
        "- float - numbers with decimal (e.g. 1.25, 1.0, -5.7)\n",
        "- strings - enclosed in quotation marks (e.g. \"Hello World\", \"PSU\")\n"
      ]
    },
    {
      "cell_type": "code",
      "execution_count": 1,
      "metadata": {
        "id": "Vhu5feTld41r"
      },
      "outputs": [],
      "source": [
        "x = 5\n",
        "base = 12.5\n",
        "name = 'Florence'\n"
      ]
    },
    {
      "cell_type": "markdown",
      "metadata": {
        "id": "9C3e0jI0_oIn"
      },
      "source": [
        "### Operators and Operands\n",
        "\n",
        "**Operators** are special tokens that represents computations like addition, subtraction, multiplication, and division. The values the operator work on are called **operands**."
      ]
    },
    {
      "cell_type": "code",
      "execution_count": null,
      "metadata": {
        "colab": {
          "base_uri": "https://localhost:8080/"
        },
        "id": "g0AMb3njAHvv",
        "outputId": "d88381fd-5c9b-4b66-b820-1f5a08720b29"
      },
      "outputs": [
        {
          "data": {
            "text/plain": [
              "112"
            ]
          },
          "execution_count": 10,
          "metadata": {
            "tags": []
          },
          "output_type": "execute_result"
        }
      ],
      "source": [
        "20 + 32\n",
        "5 ** 2\n",
        "(5 + 9) * (15-7)"
      ]
    },
    {
      "cell_type": "markdown",
      "metadata": {
        "id": "QxTUCHiuAOSY"
      },
      "source": [
        "The asterisk * is the token for multiplication, and ** is the token for exponentiation. Remember if you want to see the results of the computation, use the word **print**. Add print(7+5) in line 4, then run the program."
      ]
    },
    {
      "cell_type": "markdown",
      "metadata": {
        "id": "LtSHsGQEBHcP"
      },
      "source": [
        "The division operator / produces a floating point result even if the result is an integer. For example 4/2 is 2.0. If you want truncated division, which ignores the remainder, you can use the // operator. For example 5//2 is 2."
      ]
    },
    {
      "cell_type": "code",
      "execution_count": 2,
      "metadata": {
        "colab": {
          "base_uri": "https://localhost:8080/"
        },
        "id": "gknfxPX4Dxea",
        "outputId": "e4d13b86-52b2-4634-cea8-9e45c4af8319"
      },
      "outputs": [
        {
          "name": "stdout",
          "output_type": "stream",
          "text": [
            "1.8\n",
            "0.5555555555555556\n",
            "1\n",
            "2.3333333333333335\n",
            "2.0\n"
          ]
        }
      ],
      "source": [
        "print(9/5)\n",
        "print(5/9)\n",
        "print(9//5)\n",
        "print(7.0/3.0)\n",
        "print(7.0//3.0)"
      ]
    },
    {
      "cell_type": "markdown",
      "metadata": {
        "id": "l5O5nPyOD4iw"
      },
      "source": [
        "The modulus operators works on integers and yields the remainder when the first operant is divided by the second. The modulus operator is a percent sign %."
      ]
    },
    {
      "cell_type": "code",
      "execution_count": 3,
      "metadata": {
        "colab": {
          "base_uri": "https://localhost:8080/"
        },
        "id": "G6ZSwkbCEY1J",
        "outputId": "5ce4dd42-0c0d-438c-eafe-358c63b4d4b4"
      },
      "outputs": [
        {
          "name": "stdout",
          "output_type": "stream",
          "text": [
            "2\n",
            "1\n"
          ]
        }
      ],
      "source": [
        "print(7//3)\n",
        "print(7%3)"
      ]
    },
    {
      "cell_type": "markdown",
      "metadata": {
        "id": "tjMbkPHtKr_m"
      },
      "source": [
        "### Function Calls\n",
        "\n",
        "You are familiar with the idea of functions from high school algebra. For example you have f(x) = 3x + 2, then you might write f(5) and expect the get the value 17.\n",
        "\n",
        "Python adopts a similar syntax for invoking function. If there is a named function foo that takes a single input, we can invoke foo on the value 5 by writing foo(5).\n",
        "\n",
        "You will learn how to define a function later, for now, you just need to learn how to invoke or call a function and understand that the execution of the function returns a computed value.\n"
      ]
    },
    {
      "cell_type": "code",
      "execution_count": null,
      "metadata": {
        "colab": {
          "base_uri": "https://localhost:8080/"
        },
        "id": "NJFMrgS2Ti6K",
        "outputId": "479ee8a0-6d67-43ab-f84d-4149bbabf5de"
      },
      "outputs": [
        {
          "name": "stdout",
          "output_type": "stream",
          "text": [
            "9\n",
            "25\n",
            "2\n",
            "-4\n",
            "36\n"
          ]
        }
      ],
      "source": [
        "def square(number):\n",
        "  return number*number\n",
        "\n",
        "def sub(x, y):\n",
        "  return x-y\n",
        "\n",
        "print(square(3))\n",
        "print(square(5))\n",
        "print(sub(6,4))\n",
        "print(sub(5,9))\n",
        "n = square(6)\n",
        "\n",
        "print(n)"
      ]
    },
    {
      "cell_type": "markdown",
      "metadata": {
        "id": "Ql0YZhPvUDmb"
      },
      "source": [
        "We defined two functions above **square** and **sub**. The square takes a single input parameter, and returns that input multiplied by itself. The sub function take two input parameters and returns the result of subtracting the second from the first.\n",
        "\n",
        "The code in line 1-5 are the definition of the functions square and sub. The code in line 7 to 10 are the code that invokes the two functions.\n",
        "\n",
        "When a function takes more than one input parameter like in `sub(x, y)`, inputs are separated by a comma."
      ]
    },
    {
      "cell_type": "markdown",
      "metadata": {
        "id": "7TyAYCE0WfXJ"
      },
      "source": [
        "Calling the function square and passing the input 5 produces 25, but you never see that in the output window. Why is that?\n",
        "\n"
      ]
    },
    {
      "cell_type": "markdown",
      "metadata": {
        "id": "MRhaW8D4XgTO"
      },
      "source": [
        "### Function calls as part of comple expression\n",
        "\n",
        "You can also call a function that produces a number. Notice that the expression inside the innermost parentheses are resolved first."
      ]
    },
    {
      "cell_type": "code",
      "execution_count": null,
      "metadata": {
        "colab": {
          "base_uri": "https://localhost:8080/"
        },
        "id": "XBXxBgIkWeoc",
        "outputId": "e12f7510-136e-4ec4-be87-e81c4c6ff622"
      },
      "outputs": [
        {
          "name": "stdout",
          "output_type": "stream",
          "text": [
            "11\n",
            "5\n"
          ]
        }
      ],
      "source": [
        "print(square(3) + 2)\n",
        "print(sub(square(3), square(1+1)))\n",
        "\n",
        "# 9, 4\n",
        "# 9 - 4"
      ]
    },
    {
      "cell_type": "markdown",
      "metadata": {
        "id": "6oLTfHP0YRNT"
      },
      "source": [
        "Calling the name of the function refers to the function as an object. Typing the name of the function followed by parentheses invokes the function."
      ]
    },
    {
      "cell_type": "code",
      "execution_count": null,
      "metadata": {
        "colab": {
          "base_uri": "https://localhost:8080/"
        },
        "id": "6CldxmS_YDaV",
        "outputId": "8ed3bd9a-fb2e-420f-983e-86652c6a884e"
      },
      "outputs": [
        {
          "name": "stdout",
          "output_type": "stream",
          "text": [
            "<function square at 0x7f741e643680>\n",
            "9\n"
          ]
        }
      ],
      "source": [
        "print(square)\n",
        "print(square(3))"
      ]
    },
    {
      "cell_type": "markdown",
      "metadata": {
        "id": "agrrkiDqYm0u"
      },
      "source": [
        "### Data Types\n",
        "\n",
        "If you want to know what class (data type) a value falls into, you can use the **type** function. Check the example code below."
      ]
    },
    {
      "cell_type": "code",
      "execution_count": null,
      "metadata": {
        "colab": {
          "base_uri": "https://localhost:8080/"
        },
        "id": "u27F2M44Ydnc",
        "outputId": "3f4a5047-1fba-448e-c494-67e43663093a"
      },
      "outputs": [
        {
          "name": "stdout",
          "output_type": "stream",
          "text": [
            "<class 'str'>\n",
            "<class 'int'>\n",
            "<class 'float'>\n",
            "<class 'int'>\n"
          ]
        }
      ],
      "source": [
        "print(type(\"Hello, World!\"))\n",
        "print(type(17))\n",
        "print(type(3.2))\n",
        "print(type(11))"
      ]
    },
    {
      "cell_type": "markdown",
      "metadata": {
        "id": "-YHvi59CZDtP"
      },
      "source": [
        "Values like \"17\" and \"3.2\" look like numbers, but they are in quotation marks. They're strings!\n",
        "\n",
        "Strings in Python can be enclosed in either single quote ' or double quotes \", or three of each ''' or \"\"\"."
      ]
    },
    {
      "cell_type": "code",
      "execution_count": null,
      "metadata": {
        "colab": {
          "base_uri": "https://localhost:8080/"
        },
        "id": "jil2kRx8ZQTX",
        "outputId": "984b7d27-d79a-488f-c0ce-c184af261254"
      },
      "outputs": [
        {
          "name": "stdout",
          "output_type": "stream",
          "text": [
            "<class 'str'>\n",
            "<class 'str'>\n",
            "<class 'str'>\n",
            "<class 'str'>\n",
            "<class 'str'>\n",
            "<class 'str'>\n"
          ]
        }
      ],
      "source": [
        "print(type(\"17\"))\n",
        "print(type(\"3.2\"))\n",
        "\n",
        "print(type('This is a string.'))\n",
        "print(type(\"And so is this.\"))\n",
        "print(type(\"\"\"and this.\"\"\"))\n",
        "print(type('''and even this...'''))"
      ]
    },
    {
      "cell_type": "markdown",
      "metadata": {
        "id": "CeceEP6yanfU"
      },
      "source": [
        "You can put single quote inside double quoted string. Strings enclosed with three occurrences of either quote symbol are called **triple quoted** strings."
      ]
    },
    {
      "cell_type": "code",
      "execution_count": null,
      "metadata": {
        "colab": {
          "base_uri": "https://localhost:8080/"
        },
        "id": "S4b6FXWoaV75",
        "outputId": "99857458-6550-410c-8916-1088f17b4e9c"
      },
      "outputs": [
        {
          "name": "stdout",
          "output_type": "stream",
          "text": [
            "\"Oh no\", she exclaimed, \"Ben's bike is broken!\"\n"
          ]
        }
      ],
      "source": [
        "print('''\"Oh no\", she exclaimed, \"Ben's bike is broken!\"''')"
      ]
    },
    {
      "cell_type": "markdown",
      "metadata": {
        "id": "-QTTQ-hpaxGP"
      },
      "source": [
        "Strings can even span multiple lines, just like the sample below."
      ]
    },
    {
      "cell_type": "code",
      "execution_count": null,
      "metadata": {
        "colab": {
          "base_uri": "https://localhost:8080/"
        },
        "id": "1HZUDLt_acOf",
        "outputId": "0351eb7d-9c27-4225-e1f8-847c141306c3"
      },
      "outputs": [
        {
          "name": "stdout",
          "output_type": "stream",
          "text": [
            "This message will span\n",
            "several lines\n",
            "of the text.\n"
          ]
        }
      ],
      "source": [
        "print(\"\"\"This message will span\n",
        "several lines\n",
        "of the text.\"\"\")"
      ]
    },
    {
      "cell_type": "markdown",
      "metadata": {
        "id": "0rI27WiFbN4C"
      },
      "source": [
        "It doesn't matter whether you use single, double or the tree-of-a-kind quotes to surround your strings."
      ]
    },
    {
      "cell_type": "code",
      "execution_count": null,
      "metadata": {
        "colab": {
          "base_uri": "https://localhost:8080/"
        },
        "id": "3ICzxlZ9agzw",
        "outputId": "dcb14da2-af45-4050-fb5d-44a07fd367ee"
      },
      "outputs": [
        {
          "name": "stdout",
          "output_type": "stream",
          "text": [
            "This is a string.\n",
            "And so is this.\n"
          ]
        }
      ],
      "source": [
        "print('This is a string.')\n",
        "print(\"\"\"And so is this.\"\"\")"
      ]
    },
    {
      "cell_type": "markdown",
      "metadata": {
        "id": "YayYnQuTcXvo"
      },
      "source": [
        "### Type conversion functions\n",
        "\n",
        "The conversion functions int, float, str will convert their arguments/parameters into type int, float and str respectively.\n",
        "\n",
        "Note that # is a comment. Comments can be used to explain Python code. Comments can be used to make the code more readable. Comments can be used to prevent execution when testing code."
      ]
    },
    {
      "cell_type": "code",
      "execution_count": null,
      "metadata": {
        "colab": {
          "base_uri": "https://localhost:8080/"
        },
        "id": "ay5NRhQvctSH",
        "outputId": "ba9485dc-e69e-4203-9242-206d0aa0f534"
      },
      "outputs": [
        {
          "name": "stdout",
          "output_type": "stream",
          "text": [
            "3.14 3\n",
            "3.9999 3\n",
            "3.0 3\n",
            "-3.999 -3\n",
            "2345 2345\n",
            "17 17\n",
            "Hello world.  5 7 2\n"
          ]
        }
      ],
      "source": [
        "print(3.14, int(3.14))\n",
        "print(3.9999, int(3.9999))  # This doesn't round to the closest int!\n",
        "print(3.0, int(3.0))\n",
        "print(-3.999, int(-3.999))  # Note that the result is closer to zero\n",
        "print(\"2345\", int(\"2345\"))  # parse a string to produce an int\n",
        "print(17, int(17))          # int even works on integers\n",
        "#print(13.5, int(13.5))\n",
        "\n",
        "print(\"Hello world. \", 5, 3+4, 2)\n",
        "\n"
      ]
    },
    {
      "cell_type": "code",
      "execution_count": null,
      "metadata": {
        "colab": {
          "base_uri": "https://localhost:8080/"
        },
        "id": "l0qkQcfvdg7X",
        "outputId": "443825a0-3dd7-4191-cc6c-02b8a09457e8"
      },
      "outputs": [
        {
          "name": "stdout",
          "output_type": "stream",
          "text": [
            "123.45\n",
            "<class 'float'>\n"
          ]
        }
      ],
      "source": [
        "print(float(\"123.45\"))\n",
        "print(type(float(\"123.45\")))"
      ]
    },
    {
      "cell_type": "code",
      "execution_count": null,
      "metadata": {
        "colab": {
          "base_uri": "https://localhost:8080/"
        },
        "id": "-hXn0YnkdjbB",
        "outputId": "d24eed41-45b1-4b73-bbc3-83136e7a1249"
      },
      "outputs": [
        {
          "name": "stdout",
          "output_type": "stream",
          "text": [
            "17\n",
            "123.45\n",
            "<class 'str'>\n"
          ]
        }
      ],
      "source": [
        "print(str(17))\n",
        "print(str(123.45))\n",
        "print(type(str(123.45)))"
      ]
    },
    {
      "cell_type": "markdown",
      "metadata": {
        "id": "eW7m_YKXdvwF"
      },
      "source": [
        "One common operation where you might need to do a type conversion is when you are concatenating several strings."
      ]
    },
    {
      "cell_type": "code",
      "execution_count": null,
      "metadata": {
        "colab": {
          "base_uri": "https://localhost:8080/"
        },
        "id": "VYQKEbB-d2Up",
        "outputId": "b18765bf-816a-4214-cfed-cfcc8b797c91"
      },
      "outputs": [
        {
          "name": "stdout",
          "output_type": "stream",
          "text": [
            "The value is 55\n",
            "Hello World\n",
            "24\n"
          ]
        }
      ],
      "source": [
        "val = 50 + 5\n",
        "print(\"The value is \" + str(val))\n",
        "\n",
        "print(\"Hello \" + \"World\")\n",
        "print(\"2\" + \"4\")"
      ]
    },
    {
      "cell_type": "markdown",
      "metadata": {
        "id": "fiTagklyeEpC"
      },
      "source": [
        "To solve the error in the code above, convert val to string using str function."
      ]
    },
    {
      "cell_type": "markdown",
      "metadata": {
        "id": "YT-NJPgFeUs_"
      },
      "source": [
        "### Variables\n",
        "\n",
        "The variable is a name that refers to a value."
      ]
    },
    {
      "cell_type": "code",
      "execution_count": null,
      "metadata": {
        "id": "We90r6aNefuk"
      },
      "outputs": [],
      "source": [
        "message = \"Hello World.\"\n",
        "x = 15\n",
        "pi = 3.14159"
      ]
    },
    {
      "cell_type": "markdown",
      "metadata": {
        "id": "fhZ3Mqr0erGx"
      },
      "source": [
        "The variables above are message, x, and pi. The code makes three assignment statements. The assignment token, =, should not be confused with equality. The assignment statement links a variable name, on the left hand side of the operator, with a value on the right side. You'll get an error if you enter 15 = n."
      ]
    },
    {
      "cell_type": "markdown",
      "metadata": {
        "id": "8bfV5_qdfX7j"
      },
      "source": [
        "Rules in naming variables:\n",
        "1. should start with a letter or an underscore\n",
        "2. can contain both letters and digits and underscore\n",
        "3. underscore can appear in a name (e.g. my_name, last_name)\n",
        "4. case sensitive (Bunny and bunny are different variables)\n",
        "5. not a keyword\n",
        "\n",
        "If you give a variable an illegal name, you get a syntax error. Examples below are illegal variable names.\n"
      ]
    },
    {
      "cell_type": "code",
      "execution_count": null,
      "metadata": {
        "id": "dYdvqt1ugzAU"
      },
      "outputs": [],
      "source": [
        "76trombones = \"big parade\"\n",
        "more = 1000000\n",
        "class = \"Computer Science 101\"\n",
        "\n"
      ]
    },
    {
      "cell_type": "markdown",
      "metadata": {
        "id": "XnZCr8Lbg40O"
      },
      "source": [
        "The class in line 3 is a Python keyword. Keywords has a specific funtion in Python language that's why they can't be used as variable names. The assignment statement in line 3 means you want to put \"Computer Science 101\" to class variable, but the word **class** has meaning already in Python language. \n",
        "\n",
        "Here is the list of Python Keywords and their meanings.\n",
        "https://www.w3schools.com/python/python_ref_keywords.asp"
      ]
    },
    {
      "cell_type": "markdown",
      "metadata": {
        "id": "PKfoKNJgPa2u"
      },
      "source": [
        "It is legal to make more than one assignment to the same variable. A new assignment makes an existing variable refer to a new value."
      ]
    },
    {
      "cell_type": "code",
      "execution_count": null,
      "metadata": {
        "colab": {
          "base_uri": "https://localhost:8080/"
        },
        "id": "INqdGrxePlO8",
        "outputId": "52394188-4bc5-4ec5-cf37-5de5bd00a274"
      },
      "outputs": [
        {
          "name": "stdout",
          "output_type": "stream",
          "text": [
            "5\n",
            "7\n",
            "5 5\n",
            "3 5\n"
          ]
        }
      ],
      "source": [
        "lee = 5\n",
        "print(lee)\n",
        "lee = 7\n",
        "print(lee)\n",
        "\n",
        "a = 5\n",
        "b = a # after executing this line, a and b are now equal\n",
        "print(a,b)\n",
        "a = 3 # after executing this line, a and b are no longer equal\n",
        "print(a,b)"
      ]
    },
    {
      "cell_type": "markdown",
      "metadata": {
        "id": "tSaTXMhuQfWo"
      },
      "source": [
        "Updating a variable by adding something to it is called increment, subtracting is called decrement. In Python += is used for incrementing, and -= for decrementing."
      ]
    },
    {
      "cell_type": "code",
      "execution_count": null,
      "metadata": {
        "colab": {
          "base_uri": "https://localhost:8080/"
        },
        "id": "aZtg3HkLQ3rH",
        "outputId": "72ffd609-458d-4f3c-8258-fecff716aea7"
      },
      "outputs": [
        {
          "name": "stdout",
          "output_type": "stream",
          "text": [
            "6\n",
            "9\n",
            "8\n"
          ]
        }
      ],
      "source": [
        "x = 6\n",
        "print(x)\n",
        "x += 3    # increment x by 3 same as x = x + 3\n",
        "print(x)\n",
        "x -= 1    # decrement x by 1 same as x = x - 1\n",
        "print(x)"
      ]
    },
    {
      "cell_type": "markdown",
      "metadata": {
        "id": "bJURoaOQjkKH"
      },
      "source": [
        "### Order of Operations\n",
        "\n",
        "Python follows the same precedence rules for its mathematical operators that mathematics does.\n",
        "\n",
        "1. Parentheses (e.g. 2*(3-1) is 4)\n",
        "2. Exponentiation  (e.g. 2**1+1 is 3, 3*1**3 is 3)\n",
        "3. Multiplication and both division is higher than addition and subtraction (e.g. 2*3-1 is 5, 5-2*2 is 1)\n",
        "4. Operators with the same precedence are evaluated from left-to-right. (e.g 6-3+2 is 3."
      ]
    },
    {
      "cell_type": "markdown",
      "metadata": {
        "id": "HZrk9ZxxRlRO"
      },
      "source": [
        "### Input\n",
        "\n",
        "To make the program more interesting, let's try to get input from the user. To accomplish this you will use the built-in function called **input**.\n",
        "\n",
        "The **input** function will provide a prompt string; in the example below, it is \"Please enter your name: \". The user of the program can type some text and press **return**. The input function returns a **string** value, even if you ask the user to enter their age. It is your job to convert that string in an **integer**."
      ]
    },
    {
      "cell_type": "code",
      "execution_count": null,
      "metadata": {
        "colab": {
          "base_uri": "https://localhost:8080/"
        },
        "id": "9Gq5puxtTUkG",
        "outputId": "24b3932b-90ee-4b70-85c2-6afd18fe3f16"
      },
      "outputs": [
        {
          "name": "stdout",
          "output_type": "stream",
          "text": [
            "Hello Ivy\n"
          ]
        }
      ],
      "source": [
        "n = input(\"Please enter your name: \")\n",
        "print(\"Hello\", n)"
      ]
    },
    {
      "cell_type": "code",
      "execution_count": null,
      "metadata": {
        "colab": {
          "base_uri": "https://localhost:8080/"
        },
        "id": "ZobG_V5zV15I",
        "outputId": "ee783908-46ce-41c1-9f77-3bcceb58b2ec"
      },
      "outputs": [
        {
          "name": "stdout",
          "output_type": "stream",
          "text": [
            "Please enter the number of seconds you wish to convert32\n",
            "Hrs= 0 mins= 0 secs= 32\n"
          ]
        }
      ],
      "source": [
        "# \n",
        "# Here is a program that converts number of seconds into more human\n",
        "# readable counts of hours, minutes, and seconds.\n",
        "#\n",
        "\n",
        "str_seconds = input(\"Please enter the number of seconds you wish to convert: \")\n",
        "total_secs = int(str_seconds)\n",
        "hours = total_secs // 3600\n",
        "secs_still_remaining = total_secs % 3600\n",
        "minutes = secs_still_remaining // 60\n",
        "secs_finally_remaining = secs_still_remaining % 60\n",
        "print(\"Hrs=\", hours, \"mins=\", minutes, \"secs=\", secs_finally_remaining)"
      ]
    },
    {
      "cell_type": "markdown",
      "metadata": {
        "id": "6cWWBdt5hNO8"
      },
      "source": [
        "\n",
        "\n",
        "---\n",
        "Practice Sets. \n",
        "\n",
        "Write Python statements after instructions below.\n",
        "\n",
        "\n",
        "---\n",
        "\n"
      ]
    },
    {
      "cell_type": "code",
      "execution_count": null,
      "metadata": {
        "id": "LSrzfoKrhuU9"
      },
      "outputs": [],
      "source": [
        "# Write a single Python statement to accomplish the following:\n",
        "# 1. Define the variables c, thisVariable, and q76354. Set values to 0.\n",
        "# 2. Prompt the user to enter an integer, end your prompting message with a colon followed by a space.\n",
        "# 3. Read an integer from the keyboard and store the value entered in variable \"number\"."
      ]
    },
    {
      "cell_type": "code",
      "execution_count": null,
      "metadata": {
        "colab": {
          "base_uri": "https://localhost:8080/"
        },
        "id": "Jo7BBhzslNXT",
        "outputId": "f46a04c4-ca95-4667-92d3-d933bbfd688d"
      },
      "outputs": [
        {
          "name": "stdout",
          "output_type": "stream",
          "text": [
            "Input the first number: 1\n"
          ]
        }
      ],
      "source": [
        "# Write a program that inputs three different integers, then prints the sum, the average, and the product.\n",
        "\n",
        "# Sample output:\n",
        "\n",
        "# Input the first number: 13\n",
        "x = input(\"Input the first number: \")\n",
        "# Input the second number: 27\n",
        "# Input the third number: 14\n",
        "# Sum is 54\n",
        "# Average is 18\n",
        "# Product is 4914"
      ]
    },
    {
      "cell_type": "code",
      "execution_count": null,
      "metadata": {
        "colab": {
          "base_uri": "https://localhost:8080/"
        },
        "id": "p4riLzXOCQ3j",
        "outputId": "6ee8238f-6714-4efb-ee79-dd624ff42a1e"
      },
      "outputs": [
        {
          "data": {
            "text/plain": [
              "14"
            ]
          },
          "execution_count": 2,
          "metadata": {
            "tags": []
          },
          "output_type": "execute_result"
        }
      ],
      "source": [
        "16 - 2 * 5 // 3 + 1"
      ]
    },
    {
      "cell_type": "code",
      "execution_count": null,
      "metadata": {
        "colab": {
          "base_uri": "https://localhost:8080/"
        },
        "id": "aQ6td7_WFLPm",
        "outputId": "a2e03546-bf96-4ebf-e695-de218f001ab6"
      },
      "outputs": [
        {
          "name": "stdout",
          "output_type": "stream",
          "text": [
            "Enter the base: 12.5\n",
            "Enter the height: 36\n",
            "The area of triangle is  225.0\n"
          ]
        }
      ],
      "source": [
        "# areaTriangle = 1/2*base*height\n",
        "\n",
        "# input: base, height\n",
        "# output: area of triangle\n",
        "# math expression (process): 1/2*base*height\n",
        "\n",
        "base = float(input(\"Enter the base: \"))\n",
        "height = float(input(\"Enter the height: \"))\n",
        "areaT = 1/2.0*base*height\n",
        "\n",
        "print(\"The area of triangle is \", areaT)"
      ]
    }
  ],
  "metadata": {
    "colab": {
      "collapsed_sections": [],
      "name": "Copy of 02 Week.ipynb",
      "provenance": []
    },
    "kernelspec": {
      "display_name": "Python 3",
      "name": "python3"
    },
    "language_info": {
      "codemirror_mode": {
        "name": "ipython",
        "version": 3
      },
      "file_extension": ".py",
      "mimetype": "text/x-python",
      "name": "python",
      "nbconvert_exporter": "python",
      "pygments_lexer": "ipython3",
      "version": "3.11.4"
    }
  },
  "nbformat": 4,
  "nbformat_minor": 0
}
