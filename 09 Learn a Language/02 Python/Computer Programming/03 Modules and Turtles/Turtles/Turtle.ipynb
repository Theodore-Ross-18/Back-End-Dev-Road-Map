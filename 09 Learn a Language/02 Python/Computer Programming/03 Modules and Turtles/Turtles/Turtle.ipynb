{
 "cells": [
  {
   "cell_type": "code",
   "execution_count": null,
   "metadata": {},
   "outputs": [],
   "source": [
    "# Square\n",
    "import turtle\n",
    "\n",
    "window = turtle.Screen()\n",
    "pen = turtle.Turtle()\n",
    "\n",
    "for _ in range(4):\n",
    "    pen.forward(100)\n",
    "    pen.right(90)\n",
    "\n",
    "window.exitonclick()"
   ]
  },
  {
   "cell_type": "code",
   "execution_count": 1,
   "metadata": {},
   "outputs": [],
   "source": [
    "# Triangle\n",
    "import turtle\n",
    "\n",
    "window = turtle.Screen()\n",
    "pen = turtle.Turtle()\n",
    "\n",
    "for _ in range(3):\n",
    "    pen.forward(100)\n",
    "    pen.left(120)\n",
    "\n",
    "window.exitonclick()"
   ]
  },
  {
   "cell_type": "code",
   "execution_count": 1,
   "metadata": {},
   "outputs": [],
   "source": [
    "# Circle\n",
    "import turtle\n",
    "\n",
    "window = turtle.Screen()\n",
    "pen = turtle.Turtle()\n",
    "\n",
    "pen.circle(100)\n",
    "\n",
    "window.exitonclick()"
   ]
  },
  {
   "cell_type": "code",
   "execution_count": null,
   "metadata": {},
   "outputs": [],
   "source": [
    "# Pentagon\n",
    "import turtle\n",
    "\n",
    "window = turtle.Screen()\n",
    "pen = turtle.Turtle()\n",
    "\n",
    "for _ in range(5):\n",
    "    pen.forward(100)\n",
    "    pen.right(72)\n",
    "\n",
    "window.exitonclick()"
   ]
  },
  {
   "cell_type": "code",
   "execution_count": null,
   "metadata": {},
   "outputs": [],
   "source": [
    "# Hexagon\n",
    "import turtle\n",
    "\n",
    "window = turtle.Screen()\n",
    "pen = turtle.Turtle()\n",
    "\n",
    "for _ in range(6):\n",
    "    pen.forward(100)\n",
    "    pen.right(60)\n",
    "\n",
    "window.exitonclick()"
   ]
  },
  {
   "cell_type": "code",
   "execution_count": null,
   "metadata": {},
   "outputs": [],
   "source": [
    "# Octagon\n",
    "import turtle\n",
    "\n",
    "window = turtle.Screen()\n",
    "pen = turtle.Turtle()\n",
    "\n",
    "for _ in range(8):\n",
    "    pen.forward(100)\n",
    "    pen.right(45)\n",
    "\n",
    "window.exitonclick()"
   ]
  },
  {
   "cell_type": "code",
   "execution_count": null,
   "metadata": {},
   "outputs": [],
   "source": [
    "# Star\n",
    "import turtle\n",
    "\n",
    "window = turtle.Screen()\n",
    "pen = turtle.Turtle()\n",
    "\n",
    "for _ in range(5):\n",
    "    pen.forward(100)\n",
    "    pen.right(144)\n",
    "\n",
    "window.exitonclick()"
   ]
  }
 ],
 "metadata": {
  "kernelspec": {
   "display_name": "Python 3",
   "language": "python",
   "name": "python3"
  },
  "language_info": {
   "codemirror_mode": {
    "name": "ipython",
    "version": 3
   },
   "file_extension": ".py",
   "mimetype": "text/x-python",
   "name": "python",
   "nbconvert_exporter": "python",
   "pygments_lexer": "ipython3",
   "version": "3.11.4"
  }
 },
 "nbformat": 4,
 "nbformat_minor": 2
}
