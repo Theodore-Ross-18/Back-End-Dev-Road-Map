{
 "cells": [
  {
   "cell_type": "code",
   "execution_count": null,
   "metadata": {},
   "outputs": [],
   "source": [
    "# Let us give an alias for a module using AS keyword\n",
    "import math as m\n",
    "\n",
    "print(m.sqrt(3))\n",
    "print(m.factorial(6))"
   ]
  },
  {
   "cell_type": "code",
   "execution_count": null,
   "metadata": {},
   "outputs": [],
   "source": [
    "# Let us now import a built in module in python\n",
    "# Let us use keyword IMPORT\n",
    "\n",
    "import math\n",
    "\n",
    "print(math.sqrt(25))\n",
    "print(math.factorial(6))"
   ]
  },
  {
   "cell_type": "code",
   "execution_count": null,
   "metadata": {},
   "outputs": [],
   "source": [
    "# Now let us use specific functions inside math module using FROM keyword\n",
    "\n",
    "from math import sqrt, factorial\n",
    "\n",
    "print(sqrt(57))\n",
    "print(factorial(2))"
   ]
  },
  {
   "cell_type": "code",
   "execution_count": null,
   "metadata": {},
   "outputs": [],
   "source": [
    "# Let us create a simple calculator for this first module\n",
    "\n",
    "def add(x,y):\n",
    "    return x+y\n",
    "\n",
    "def subtraction(x,y):\n",
    "    return x-y \n",
    "\n",
    "def divide(x,y):\n",
    "    return x/y \n",
    "\n",
    "def multiply(x,y):\n",
    "    return x*y\n",
    "\n",
    "print(\"Addition: 1 + 2 =\", add(1, 2))\n",
    "\n",
    "print(\"Subtraction: 3 - 1 =\", subtraction(3, 1))\n",
    "\n",
    "print(\"Divide: 5 / 10 =\", divide(5, 10))\n",
    "\n",
    "print(\"Multiply: 5 x 25 =\", multiply(5, 25))"
   ]
  }
 ],
 "metadata": {
  "kernelspec": {
   "display_name": "Python 3",
   "language": "python",
   "name": "python3"
  },
  "language_info": {
   "codemirror_mode": {
    "name": "ipython",
    "version": 3
   },
   "file_extension": ".py",
   "mimetype": "text/x-python",
   "name": "python",
   "nbconvert_exporter": "python",
   "pygments_lexer": "ipython3",
   "version": "3.11.4"
  }
 },
 "nbformat": 4,
 "nbformat_minor": 2
}
